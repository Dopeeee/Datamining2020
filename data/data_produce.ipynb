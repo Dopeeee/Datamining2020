{
 "cells": [
  {
   "cell_type": "code",
   "execution_count": 29,
   "metadata": {},
   "outputs": [],
   "source": [
    "import numpy as np\n",
    "import random "
   ]
  },
  {
   "cell_type": "code",
   "execution_count": 30,
   "metadata": {},
   "outputs": [],
   "source": [
    "d = 9\n",
    "N = 10000\n",
    "w = np.ones(d)\n"
   ]
  },
  {
   "cell_type": "code",
   "execution_count": 31,
   "metadata": {},
   "outputs": [],
   "source": [
    "data = np.empty(shape = (N,d+1),dtype = int)"
   ]
  },
  {
   "cell_type": "code",
   "execution_count": 32,
   "metadata": {},
   "outputs": [],
   "source": [
    "def randomArray(d):\n",
    "    temp = np.empty(d,dtype = int)\n",
    "    for i in range(d):\n",
    "        n = random.randint(0,10)\n",
    "        x = random.randint(-40 , -20) if n%2==0 else random.randint(20,40)\n",
    "        temp[i] = x\n",
    "    return temp\n",
    "    "
   ]
  },
  {
   "cell_type": "code",
   "execution_count": 33,
   "metadata": {},
   "outputs": [
    {
     "data": {
      "text/plain": [
       "array([[-36,  19, -43, ..., -36,  11,   0],\n",
       "       [ 26, -35,  20, ..., -43, -47,   0],\n",
       "       [-40,  12, -49, ..., -41, -47,   0],\n",
       "       ...,\n",
       "       [ 27, -31, -50, ...,  13, -46,   0],\n",
       "       [-47, -40,  22, ..., -42, -47,   0],\n",
       "       [-11, -19, -30, ..., -19,  35,   1]])"
      ]
     },
     "execution_count": 33,
     "metadata": {},
     "output_type": "execute_result"
    }
   ],
   "source": [
    "for i in range(N):\n",
    "    temp = randomArray(d)\n",
    "    if(np.sum(np.dot(w,temp))>0):\n",
    "        label = 1\n",
    "        temp[:] =  temp[:] + 10\n",
    "    elif(np.sum(np.dot(w,temp))< 0):\n",
    "        label = 0\n",
    "        temp[:] = temp[:] - 10\n",
    "    elif(np.sum(np.dot(w,temp)) == 0):\n",
    "        temp[:] = temp[:] + 10\n",
    "        label = 1\n",
    "    data[i] = np.append(temp, label)\n",
    "data\n",
    "    \n",
    "    "
   ]
  },
  {
   "cell_type": "code",
   "execution_count": 34,
   "metadata": {},
   "outputs": [
    {
     "data": {
      "text/plain": [
       "10"
      ]
     },
     "execution_count": 34,
     "metadata": {},
     "output_type": "execute_result"
    }
   ],
   "source": [
    "len(data[0])"
   ]
  },
  {
   "cell_type": "code",
   "execution_count": null,
   "metadata": {},
   "outputs": [],
   "source": []
  },
  {
   "cell_type": "code",
   "execution_count": 35,
   "metadata": {},
   "outputs": [],
   "source": [
    "with open(\"test.txt\",\"w\") as f:\n",
    "    f.write(str(N)) \n",
    "    f.write(' ')\n",
    "    f.write(str(d)) \n",
    "    f.write(\"\\n\")\n",
    "    for i in range(len(data)-1):\n",
    "        for j in range(len(data[0])):\n",
    "            f.write(str(data[i][j]))\n",
    "            f.write(' ')\n",
    "        f.write(\"\\n\")\n",
    "    for j in range(len(data[0])):\n",
    "        f.write(str(data[N-1][j]))\n",
    "        f.write(' ')"
   ]
  },
  {
   "cell_type": "code",
   "execution_count": null,
   "metadata": {},
   "outputs": [],
   "source": []
  },
  {
   "cell_type": "code",
   "execution_count": null,
   "metadata": {},
   "outputs": [],
   "source": []
  },
  {
   "cell_type": "code",
   "execution_count": null,
   "metadata": {},
   "outputs": [],
   "source": []
  },
  {
   "cell_type": "code",
   "execution_count": null,
   "metadata": {},
   "outputs": [],
   "source": []
  },
  {
   "cell_type": "code",
   "execution_count": null,
   "metadata": {},
   "outputs": [],
   "source": []
  },
  {
   "cell_type": "code",
   "execution_count": null,
   "metadata": {},
   "outputs": [],
   "source": []
  },
  {
   "cell_type": "code",
   "execution_count": null,
   "metadata": {},
   "outputs": [],
   "source": []
  }
 ],
 "metadata": {
  "kernelspec": {
   "display_name": "Python 3",
   "language": "python",
   "name": "python3"
  },
  "language_info": {
   "codemirror_mode": {
    "name": "ipython",
    "version": 3
   },
   "file_extension": ".py",
   "mimetype": "text/x-python",
   "name": "python",
   "nbconvert_exporter": "python",
   "pygments_lexer": "ipython3",
   "version": "3.7.4"
  }
 },
 "nbformat": 4,
 "nbformat_minor": 4
}
